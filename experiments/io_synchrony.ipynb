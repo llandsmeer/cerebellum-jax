{
 "cells": [
  {
   "cell_type": "code",
   "execution_count": 19,
   "metadata": {},
   "outputs": [],
   "source": [
    "import time\n",
    "import numpy as np\n",
    "import pandas as pd\n",
    "import sys\n",
    "import os\n",
    "from tqdm.auto import tqdm\n",
    "import brainpy as bp\n",
    "import brainpy.math as bm\n",
    "import traceback\n",
    "\n",
    "bm.set_platform(\"cpu\")\n",
    "\n",
    "try:\n",
    "    parent_dir = os.path.dirname(os.path.abspath(__file__))\n",
    "except:\n",
    "    parent_dir = os.path.abspath(\"..\")\n",
    "print(\"Parent directory:\", parent_dir)\n",
    "\n",
    "sys.path.append(parent_dir)\n",
    "\n",
    "\n",
    "from models.network import run_simulation"
   ]
  },
  {
   "cell_type": "code",
   "execution_count": 5,
   "metadata": {},
   "outputs": [],
   "source": [
    "G_GJ_VALUES = np.linspace(0.0, 0.05, 10)\n",
    "SEEDS = [42, 123, 99, 7, 2024]\n",
    "DURATION = 10_000.0\n",
    "DT = 0.025\n",
    "BASE_NET_PARAMS = {}"
   ]
  },
  {
   "cell_type": "code",
   "execution_count": 21,
   "metadata": {},
   "outputs": [],
   "source": [
    "results_subdir = os.path.join(parent_dir, \"results\", f\"io_synchrony_{time.strftime('%m-%d_%H:%M:%S')}\")\n",
    "os.makedirs(results_subdir, exist_ok=True)"
   ]
  },
  {
   "cell_type": "code",
   "execution_count": 22,
   "metadata": {},
   "outputs": [
    {
     "data": {
      "application/vnd.jupyter.widget-view+json": {
       "model_id": "c6fdfe41e6dd4e389d8a72ec058cdd9d",
       "version_major": 2,
       "version_minor": 0
      },
      "text/plain": [
       "g_gj:   0%|          | 0/10 [00:00<?, ?it/s]"
      ]
     },
     "metadata": {},
     "output_type": "display_data"
    },
    {
     "data": {
      "application/vnd.jupyter.widget-view+json": {
       "model_id": "f99a725dc23f434e80b1f06c264fb77e",
       "version_major": 2,
       "version_minor": 0
      },
      "text/plain": [
       "seed:   0%|          | 0/5 [00:00<?, ?it/s]"
      ]
     },
     "metadata": {},
     "output_type": "display_data"
    },
    {
     "name": "stdout",
     "output_type": "stream",
     "text": [
      "Running simulation for 10000.0ms with dt=0.025ms...\n"
     ]
    },
    {
     "data": {
      "application/vnd.jupyter.widget-view+json": {
       "model_id": "a83f917f3ff64fc397bc8f6cbbf93ff3",
       "version_major": 2,
       "version_minor": 0
      },
      "text/plain": [
       "  0%|          | 0/400000 [00:00<?, ?it/s]"
      ]
     },
     "metadata": {},
     "output_type": "display_data"
    },
    {
     "name": "stdout",
     "output_type": "stream",
     "text": [
      "Simulation finished.\n"
     ]
    },
    {
     "data": {
      "application/vnd.jupyter.widget-view+json": {
       "model_id": "a742c81aba754de38ff11214c22e192e",
       "version_major": 2,
       "version_minor": 0
      },
      "text/plain": [
       "seed:   0%|          | 0/5 [00:00<?, ?it/s]"
      ]
     },
     "metadata": {},
     "output_type": "display_data"
    },
    {
     "name": "stdout",
     "output_type": "stream",
     "text": [
      "Running simulation for 10000.0ms with dt=0.025ms...\n"
     ]
    },
    {
     "data": {
      "application/vnd.jupyter.widget-view+json": {
       "model_id": "df2c251fb5ba492f9ce9e3b55ae6f644",
       "version_major": 2,
       "version_minor": 0
      },
      "text/plain": [
       "  0%|          | 0/400000 [00:00<?, ?it/s]"
      ]
     },
     "metadata": {},
     "output_type": "display_data"
    },
    {
     "name": "stdout",
     "output_type": "stream",
     "text": [
      "Simulation finished.\n"
     ]
    }
   ],
   "source": [
    "results_subdir = os.path.join(parent_dir, \"results\", f\"io_synchrony_{time.strftime('%m-%d_%H:%M:%S')}\")\n",
    "os.makedirs(results_subdir, exist_ok=True)\n",
    "\n",
    "i = 0\n",
    "for g_gj in tqdm(G_GJ_VALUES, position=0, desc=\"g_gj\"):\n",
    "    for seed in tqdm(SEEDS, position=1, desc=\"seed\"):\n",
    "        current_net_params = BASE_NET_PARAMS.copy()\n",
    "        current_net_params[\"IO_g_gj\"] = g_gj\n",
    "\n",
    "        try:\n",
    "            runner = run_simulation(\n",
    "                duration=DURATION, dt=DT, net_params=current_net_params, seed=seed\n",
    "            )\n",
    "            \n",
    "            data = {}\n",
    "            for k in runner.mon:\n",
    "                data[k] = np.array(runner.mon[k])\n",
    "            run_path = os.path.join(results_subdir, f\"g_gj{g_gj}_seed{seed}.npz\")\n",
    "            np.savez(run_path, **data)\n",
    "\n",
    "        except Exception as e:\n",
    "            full_error = traceback.format_exc()\n",
    "            tqdm.write(f\"Error during simulation: {e}\\n{full_error}\")\n",
    "        break\n",
    "    i += 1\n",
    "    if i == 2:\n",
    "        break"
   ]
  },
  {
   "cell_type": "code",
   "execution_count": 13,
   "metadata": {},
   "outputs": [
    {
     "name": "stdout",
     "output_type": "stream",
     "text": [
      "['g_gj=0.0_seed=42_pf.I_OU', 'g_gj=0.0_seed=42_pc.V', 'g_gj=0.0_seed=42_pc.spike', 'g_gj=0.0_seed=42_pc.w', 'g_gj=0.0_seed=42_pc.input', 'g_gj=0.0_seed=42_cn.V', 'g_gj=0.0_seed=42_cn.spike', 'g_gj=0.0_seed=42_cn.I_PC', 'g_gj=0.0_seed=42_io.V_soma', 'g_gj=0.0_seed=42_io.V_axon', 'g_gj=0.0_seed=42_io.V_dend', 'g_gj=0.0_seed=42_io.input', 'g_gj=0.0_seed=42_io.I_OU', 'g_gj=0.0_seed=42_ts']\n",
      "(400000, 100)\n"
     ]
    }
   ],
   "source": [
    "# Load\n",
    "data = np.load(\"../results/io_synchrony_data.npz\")\n",
    "print(list(data.keys()))\n",
    "print(data[\"g_gj=0.0_seed=42_pc.V\"].shape)"
   ]
  }
 ],
 "metadata": {
  "kernelspec": {
   "display_name": ".venv",
   "language": "python",
   "name": "python3"
  },
  "language_info": {
   "codemirror_mode": {
    "name": "ipython",
    "version": 3
   },
   "file_extension": ".py",
   "mimetype": "text/x-python",
   "name": "python",
   "nbconvert_exporter": "python",
   "pygments_lexer": "ipython3",
   "version": "3.12.7"
  }
 },
 "nbformat": 4,
 "nbformat_minor": 2
}
